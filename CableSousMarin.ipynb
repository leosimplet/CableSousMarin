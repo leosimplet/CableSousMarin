{
 "cells": [
  {
   "cell_type": "markdown",
   "metadata": {},
   "source": [
    "# Projet numérique : câble sous-marin"
   ]
  },
  {
   "cell_type": "markdown",
   "metadata": {},
   "source": [
    "### Questions théoriques"
   ]
  },
  {
   "cell_type": "markdown",
   "metadata": {},
   "source": [
    "**Question 1 :** Théorème Central Limite ?"
   ]
  },
  {
   "cell_type": "markdown",
   "metadata": {},
   "source": [
    "**Question 2 :**"
   ]
  },
  {
   "cell_type": "markdown",
   "metadata": {},
   "source": [
    "**Question 3 :**"
   ]
  },
  {
   "cell_type": "markdown",
   "metadata": {},
   "source": [
    "**Question 4 :**"
   ]
  },
  {
   "cell_type": "markdown",
   "metadata": {},
   "source": [
    "### Questions pratiques"
   ]
  },
  {
   "cell_type": "markdown",
   "metadata": {},
   "source": [
    "**Définition des données et du code**"
   ]
  },
  {
   "cell_type": "code",
   "execution_count": 5,
   "metadata": {
    "collapsed": true
   },
   "outputs": [],
   "source": [
    "import numpy as np\n",
    "import math\n",
    "import matplotlib.pyplot as plt"
   ]
  },
  {
   "cell_type": "code",
   "execution_count": 6,
   "metadata": {
    "collapsed": true
   },
   "outputs": [],
   "source": [
    "#Discretisation\n",
    "A, B, N = 0, 500, 101\n",
    "Delta = (B-A)/(N-1)\n",
    "discretization_indexes = np.arange(N)\n",
    "discretization = discretization_indexes*Delta\n",
    "\n",
    "#Parametres du modele\n",
    "mu = -5\n",
    "a = 50\n",
    "sigma2 = 12\n",
    "\n",
    "#Donnees\n",
    "observation_indexes = [0, 20, 40, 60, 80, 100]\n",
    "depth = np.array([0, -4, -12.8, -1, -6.5, 0])\n",
    "\n",
    "#Indices des composantes correspondant aux observations et aux composantes non observees\n",
    "unknown_indexes = list(set(discretization_indexes) - set(observation_indexes))"
   ]
  },
  {
   "cell_type": "markdown",
   "metadata": {},
   "source": [
    "**Question 1**"
   ]
  },
  {
   "cell_type": "code",
   "execution_count": 7,
   "metadata": {
    "collapsed": true
   },
   "outputs": [],
   "source": [
    "def cov(dist, a, sigma2):\n",
    "    SIGMA = np.zeros(np.shape(dist))\n",
    "    for i in range(len(dist)):\n",
    "        for j in range(len(dist[0])):\n",
    "            SIGMA[i][j] = sigma2*np.exp(-abs(dist[i][j])/a)\n",
    "    return(SIGMA)"
   ]
  },
  {
   "cell_type": "markdown",
   "metadata": {},
   "source": [
    "**Question 2**"
   ]
  },
  {
   "cell_type": "code",
   "execution_count": 8,
   "metadata": {
    "collapsed": true
   },
   "outputs": [],
   "source": [
    "def distance(discretization):\n",
    "    t = len(discretization)\n",
    "    dist = np.zeros((t,t))\n",
    "    #Construction de la matrice en utilisant sa propriete d'antisymetrie (en comptant les distances algebriquement)\n",
    "    for i in range(1,t):\n",
    "        for j in range(i):\n",
    "            dist[i][j] = discretization[i] - discretization[j]\n",
    "    dist = dist - dist.T\n",
    "    return(dist)    "
   ]
  },
  {
   "cell_type": "markdown",
   "metadata": {},
   "source": [
    "**Question 3**"
   ]
  },
  {
   "cell_type": "code",
   "execution_count": 9,
   "metadata": {},
   "outputs": [],
   "source": [
    "SIGMA = cov(distance(discretization), a, sigma2)"
   ]
  },
  {
   "cell_type": "markdown",
   "metadata": {},
   "source": [
    "**Question 4**"
   ]
  },
  {
   "cell_type": "code",
   "execution_count": 14,
   "metadata": {},
   "outputs": [],
   "source": [
    "inconnues_indexes = np.array(sorted(list(set(discretization_indexes) - set(observation_indexes))))\n",
    "cov_obs = np.array([[SIGMA[i][j] for j in observation_indexes] for i in observation_indexes])\n",
    "cov_inc = np.array([[SIGMA[i][j] for j in inconnues_indexes] for i in inconnues_indexes])\n",
    "cov_all = SIGMA"
   ]
  },
  {
   "cell_type": "code",
   "execution_count": null,
   "metadata": {
    "collapsed": true
   },
   "outputs": [],
   "source": []
  }
 ],
 "metadata": {
  "kernelspec": {
   "display_name": "Python 3",
   "language": "python",
   "name": "python3"
  },
  "language_info": {
   "codemirror_mode": {
    "name": "ipython",
    "version": 3
   },
   "file_extension": ".py",
   "mimetype": "text/x-python",
   "name": "python",
   "nbconvert_exporter": "python",
   "pygments_lexer": "ipython3",
   "version": "3.6.1"
  }
 },
 "nbformat": 4,
 "nbformat_minor": 2
}
