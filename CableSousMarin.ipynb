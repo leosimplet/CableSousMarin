{
 "cells": [
  {
   "cell_type": "markdown",
   "metadata": {},
   "source": [
    "# Projet numérique : câble sous-marin"
   ]
  },
  {
   "cell_type": "markdown",
   "metadata": {},
   "source": [
    "### Questions théoriques"
   ]
  },
  {
   "cell_type": "markdown",
   "metadata": {},
   "source": [
    "**Question 1 :** Il s'agit de la loi forte des grands nombres."
   ]
  },
  {
   "cell_type": "markdown",
   "metadata": {},
   "source": [
    "**Question 2 :** \n",
    "\n",
    "On note $\\mathbf{Z_{obs}}=(Z(x_{j_{1}}),\\dots,Z(x_{j_{n}}))$ et $\\mathbf{Z_{inc}}$ le vecteur des composantes de Z correspondant aux points de discrétisation sans observation.\n",
    "\n",
    "Notons $m_{Z_{obs}}$ et $m_{Z_{inc}}$ leur espérance (qui n'ont que $\\mu$ pour composante).\n",
    "\n",
    "Notons $\\mathbf{Z_{ord}}$ le vecteur de $\\mathbb{R}^{N+1}$ ayant pour composante celles de $\\mathbf{Z_{inc}}$ puis celles de $\\mathbf{Z_{obs}}$ (dans cet ordre précis). $\\mathbf{Z_{ord}}=((Z(x_{0}),\\dots,Z(x_{N}),Z(x_{j_{1}}),\\dots,Z(x_{j_{n}}))$ (sans doublons).\n",
    "\n",
    "Notons C la matrice de covariance de $\\mathbf{Z_{ord}}$. Alors :\n",
    "\n",
    "\\begin{equation*} C = \\left(\\begin{array}{cc} C_{Z_{inc}} & C_{Z_{inc},Z_{obs}} \\\\ C_{Z_{obs},Z_{inc}}& C_{Z_{obs}} \\end{array}\\right) \\end{equation*}\n",
    "\n",
    "Où $C_{Z_{inc}} \\; $ et $ \\;  C_{Z_{obs}}$ sont respectivement les matrices de covariances de $\\mathbf{Z_{inc}}$ et $\\mathbf{Z_{obs}}$, $C_{Z_{inc},Z_{obs}} = Cov(\\mathbf{Z_{inc}},\\mathbf{Z_{obs}})$ et $C_{Z_{obs},Z_{inc}} = Cov(\\mathbf{Z_{obs}},\\mathbf{Z_{inc}})$.\n",
    "\n",
    "Alors, d'après le cours, la variable aléatoire $\\mathbf{Z_{inc}}|\\mathbf{Z_{obs}}=z$ suit une loi gaussienne d'espérance $m_{Z_{inc}|Z_{obs}=z} = m_{Z_{inc}} + C_{Z_{inc},Z_{obs}}^{-1}(z-m_{Z_{obs}})$ et de matrice de covariance $C_{Z_{inc}|Z_{obs}=z} = C_{Z_{inc}}-C_{Z_{inc},Z_{obs}}C_{Z_{obs}}^{-1}C_{Z_{obs},Z_{inc}}$."
   ]
  },
  {
   "cell_type": "markdown",
   "metadata": {},
   "source": [
    "**Question 3 :** Y est gaussien comme combinaison linéaire de variables aléatoires gaussiennes.\n",
    "\n",
    "Par linéarité de l'espérance, $E(Z) = E(m + RY) = m + RE(Y) = m$.\n",
    "\n",
    "Et $V(Z)=V((m + RY)(m + RY)^{t}) = RR^{t}$\n"
   ]
  },
  {
   "cell_type": "markdown",
   "metadata": {},
   "source": [
    "**Question 4 :**\n",
    "\n",
    "$\\textbf{1ère étape}$ : Matrices de covariances\n",
    "\n",
    "On calcule les matrices de covariances de $\\mathbf{Z_{inc}}$, de $\\mathbf{Z_{obs}}$ et $Cov(\\mathbf{Z_{inc}},\\mathbf{Z_{obs}})$\n",
    "\n",
    "On peut ainsi calculer $C_{Z_{inc}|Z_{obs}=z}$\n",
    "\n",
    "$\\textbf{2ème étape}$ : Simulation de $\\mathbf{Z_{inc}}|\\mathbf{Z_{obs}}=z$\n",
    "\n",
    "On commence par simuler N+1-n variable alétoire gaussienne centrée réduite à l'aide de la méthode de Box-Muller. Notons par exemple Y le vecteur aléatoire (gaussien) ayant pour composante chacune de ces variables aléatoires.\n",
    "\n",
    "On détermine la décomposition (de Cholesky par exemple) de $C_{Z_{inc}|Z_{obs}=z}=RR^{t}$\n",
    "\n",
    "$\\textbf{3ème étape}$ : Concusion\n",
    "\n",
    "A l'aide de R et Y, la question 3 nous permet alors de construire $\\mathbf{Z_{inc}}|\\mathbf{Z_{obs}}=z$"
   ]
  },
  {
   "cell_type": "markdown",
   "metadata": {},
   "source": [
    "### Questions pratiques"
   ]
  },
  {
   "cell_type": "markdown",
   "metadata": {},
   "source": [
    "**Définition des données et du code**"
   ]
  },
  {
   "cell_type": "code",
   "execution_count": 14,
   "metadata": {},
   "outputs": [],
   "source": [
    "import numpy as np\n",
    "import math\n",
    "import random\n",
    "import matplotlib.pyplot as plt"
   ]
  },
  {
   "cell_type": "code",
   "execution_count": 16,
   "metadata": {},
   "outputs": [],
   "source": [
    "#Discretisation\n",
    "A, B, N = 0, 500, 101\n",
    "Delta = (B-A)/(N-1)\n",
    "discretization_indexes = np.arange(N)\n",
    "discretization = discretization_indexes*Delta\n",
    "\n",
    "#Parametres du modele\n",
    "mu = -5\n",
    "a = 50\n",
    "sigma2 = 12\n",
    "\n",
    "#Donnees\n",
    "observation_indexes = [0, 20, 40, 60, 80, 100]\n",
    "depth = np.array([0, -4, -12.8, -1, -6.5, 0])\n",
    "\n",
    "#Indices des composantes correspondant aux observations et aux composantes non observees\n",
    "unknown_indexes = list(set(discretization_indexes) - set(observation_indexes))"
   ]
  },
  {
   "cell_type": "markdown",
   "metadata": {},
   "source": [
    "**Question 1**"
   ]
  },
  {
   "cell_type": "code",
   "execution_count": 17,
   "metadata": {},
   "outputs": [],
   "source": [
    "def cov(dist, a, sigma2):\n",
    "    SIGMA = np.zeros(np.shape(dist))\n",
    "    for i in range(len(dist)):\n",
    "        for j in range(len(dist[0])):\n",
    "            SIGMA[i][j] = sigma2*np.exp(-abs(dist[i][j])/a)\n",
    "    return(SIGMA)"
   ]
  },
  {
   "cell_type": "markdown",
   "metadata": {},
   "source": [
    "**Question 2**"
   ]
  },
  {
   "cell_type": "code",
   "execution_count": 18,
   "metadata": {},
   "outputs": [],
   "source": [
    "def distance(discretization):\n",
    "    t = len(discretization)\n",
    "    dist = np.zeros((t,t))\n",
    "    for i in range(1,t):\n",
    "        for j in range(1,t):\n",
    "            dist[i][j] = discretization[i] - discretization[j]\n",
    "    return(dist)    "
   ]
  },
  {
   "cell_type": "markdown",
   "metadata": {},
   "source": [
    "**Question 3**"
   ]
  },
  {
   "cell_type": "code",
   "execution_count": 7,
   "metadata": {},
   "outputs": [],
   "source": [
    "SIGMA = cov(distance(discretization), a, sigma2)"
   ]
  },
  {
   "cell_type": "markdown",
   "metadata": {},
   "source": [
    "**Question 4**"
   ]
  },
  {
   "cell_type": "code",
   "execution_count": 19,
   "metadata": {},
   "outputs": [],
   "source": [
    "inconnues_indexes = np.array(sorted(list(set(discretization_indexes) - set(observation_indexes))))\n",
    "cov_obs = np.array([[SIGMA[i][j] for j in observation_indexes] for i in observation_indexes])\n",
    "cov_inc = np.array([[SIGMA[i][j] for j in inconnues_indexes] for i in inconnues_indexes])\n",
    "cov_inc_obs = np.array([[SIGMA[i][j] for j in observation_indexes] for i in inconnues_indexes]) ## Il s'agit de Cov(Zobs,Zinc)\n"
   ]
  },
  {
   "cell_type": "markdown",
   "metadata": {
    "collapsed": true
   },
   "source": [
    "**Question 5** Dans le cas où on cherche l'espérance conditionnelle des composantes non observées connaissant les observations, si on note Y le vecteur des composantes non observées et Z celui des composantes observées, l'espérance conditionnelle de Y sachant Z est la variable aléatoire $m_Y - C_{Y,Z}C_Z^{-1}(Z-m_Z)$ avec $C_{Y,Z} = Cov(Y,Z)$, $C_Z = Cov(Z,Z)$ et $m_Y = \\mathbb{E}(Y)$.\n",
    "En reprenant les notations précédentes, $C_Z = cov\\_obs$, $m_Y = m_Z = \\mu$."
   ]
  },
  {
   "cell_type": "code",
   "execution_count": 20,
   "metadata": {},
   "outputs": [
    {
     "data": {
      "image/png": "[encoded data removed]",
      "text/plain": [
       "<Figure size 432x288 with 1 Axes>"
      ]
     },
     "metadata": {
      "needs_background": "light"
     },
     "output_type": "display_data"
    }
   ],
   "source": [
    "mY,mZ = np.array([mu]*(len(discretization_indexes)- len(observation_indexes))).T, np.array([mu]*len(observation_indexes)).T\n",
    "Z = depth.T\n",
    "CZ = cov_obs\n",
    "CYZ = cov_inc_obs\n",
    "D = np.array(Z - mZ)\n",
    "\n",
    "#Calcul de l'esperance conditionnelle a l'aide de la formule precedente\n",
    "EY = mY - CYZ.dot(np.linalg.inv(CZ)).dot(D)\n",
    "Y = np.array([discretization[i] for i in inconnues_indexes])\n",
    "\n",
    "#Representation des donnees\n",
    "plt.plot(Y, EY)\n",
    "plt.xlabel('Points de discretisation')\n",
    "plt.ylabel('Espérance en ces points la')\n",
    "plt.show()"
   ]
  },
  {
   "cell_type": "markdown",
   "metadata": {},
   "source": [
    "**Question 6** La matrice de covariance de la variable aléatoire $Y|Z=z$ est $C_Y - C_{Y,Z}C_Z^{-1}C_{Z,Y}$"
   ]
  },
  {
   "cell_type": "code",
   "execution_count": 21,
   "metadata": {},
   "outputs": [
    {
     "data": {
      "image/png": "[encoded data removed]",
      "text/plain": [
       "<Figure size 432x288 with 1 Axes>"
      ]
     },
     "metadata": {
      "needs_background": "light"
     },
     "output_type": "display_data"
    }
   ],
   "source": [
    "CY = cov_inc\n",
    "M = CY - CYZ.dot(np.linalg.inv(CZ)).dot(CYZ.T)\n",
    "DIAG = np.array([M[i][i] for i in range(len(M))])\n",
    "plt.plot(Y, DIAG)\n",
    "plt.xlabel('Points de discretisation')\n",
    "plt.ylabel('Variance conditionnelle en ces points la')\n",
    "plt.show()"
   ]
  },
  {
   "cell_type": "markdown",
   "metadata": {},
   "source": [
    "Commentaire : à tous les points connus (0, 100, 200, 300, 400, 500), la variance est nulle (logique vu qu'on connaît les points). En revanche, plus on s'éloigne de ces points de connaissance, et moins précis le résultat est, d'où une augmentation de la variance entre deux points connus."
   ]
  },
  {
   "cell_type": "markdown",
   "metadata": {},
   "source": [
    "**Question 7**"
   ]
  },
  {
   "cell_type": "code",
   "execution_count": 210,
   "metadata": {},
   "outputs": [
    {
     "data": {
      "image/png": "[encoded data removed]",
      "text/plain": [
       "<Figure size 432x288 with 1 Axes>"
      ]
     },
     "metadata": {
      "needs_background": "light"
     },
     "output_type": "display_data"
    }
   ],
   "source": [
    "## Méthode de Box-Muller pour simuler N+1-n variable aléatoires gaussiennes centrée réduites\n",
    "\n",
    "Z0 = np.zeros(len(discretization_indexes)-len(observation_indexes))\n",
    "U = np.zeros(len(discretization_indexes)-len(observation_indexes))\n",
    "V = np.zeros(len(discretization_indexes)-len(observation_indexes))\n",
    "\n",
    "for i in range(0,len(discretization_indexes)-len(observation_indexes)):\n",
    "    ## Python peut générer un réel de [0;1[ de manière uniforme à l'aide de random.random(). Pour que U et V soient dans ]0;1[, on écrit\n",
    "    U[i] = (random.random()-random.random()+1)/2\n",
    "    V[i] = (random.random()-random.random()+1)/2\n",
    "Z0 = np.sqrt(-2*np.log(U))*np.cos(2*np.pi*V)\n",
    "R = np.linalg.cholesky(M)\n",
    "Zinc_simu = mY + R.dot(Z0)\n",
    "\n",
    "plt.plot(inconnues_indexes,Zinc_simu)\n",
    "plt.show()\n",
    "    \n",
    "    \n"
   ]
  },
  {
   "cell_type": "markdown",
   "metadata": {},
   "source": []
  },
  {
   "cell_type": "markdown",
   "metadata": {},
   "source": [
    "**Question 8**"
   ]
  },
  {
   "cell_type": "code",
   "execution_count": 12,
   "metadata": {
    "collapsed": true
   },
   "outputs": [],
   "source": [
    "def longueur(pas, profondeur):\n",
    "    S = 0\n",
    "    for i in range(1, len(profondeur)+1): S += sqrt(pas**2 + (profondeur[i] - profondeur[i-1])**2)\n",
    "    return(S)"
   ]
  },
  {
   "cell_type": "markdown",
   "metadata": {},
   "source": [
    "**Question 9**"
   ]
  },
  {
   "cell_type": "code",
   "execution_count": 14,
   "metadata": {
    "scrolled": true
   },
   "outputs": [
    {
     "ename": "ValueError",
     "evalue": "cannot call `vectorize` on size 0 inputs unless `otypes` is set",
     "output_type": "error",
     "traceback": [
      "\u001b[1;31m---------------------------------------------------------------------------\u001b[0m",
      "\u001b[1;31mValueError\u001b[0m                                Traceback (most recent call last)",
      "\u001b[1;32m<ipython-input-14-7ba1fa32b549>\u001b[0m in \u001b[0;36m<module>\u001b[1;34m()\u001b[0m\n\u001b[0;32m      1\u001b[0m \u001b[0msimulations\u001b[0m \u001b[1;33m=\u001b[0m \u001b[1;33m[\u001b[0m\u001b[1;33m]\u001b[0m\u001b[1;33m\u001b[0m\u001b[0m\n\u001b[0;32m      2\u001b[0m \u001b[0mlg\u001b[0m \u001b[1;33m=\u001b[0m \u001b[0mnp\u001b[0m\u001b[1;33m.\u001b[0m\u001b[0mvectorize\u001b[0m\u001b[1;33m(\u001b[0m\u001b[0mlongueur\u001b[0m\u001b[1;33m)\u001b[0m\u001b[1;33m\u001b[0m\u001b[0m\n\u001b[1;32m----> 3\u001b[1;33m \u001b[0mlongueurs\u001b[0m \u001b[1;33m=\u001b[0m \u001b[0mlg\u001b[0m\u001b[1;33m(\u001b[0m\u001b[0mDelta\u001b[0m\u001b[1;33m,\u001b[0m \u001b[0msimulations\u001b[0m\u001b[1;33m)\u001b[0m\u001b[1;33m\u001b[0m\u001b[0m\n\u001b[0m\u001b[0;32m      4\u001b[0m \u001b[1;33m\u001b[0m\u001b[0m\n\u001b[0;32m      5\u001b[0m \u001b[1;31m#Calcul de l'esperance conditionnelle (estimee) de la longueur\u001b[0m\u001b[1;33m\u001b[0m\u001b[1;33m\u001b[0m\u001b[0m\n",
      "\u001b[1;32mC:\\Users\\PULSAT\\Anaconda3\\lib\\site-packages\\numpy\\lib\\function_base.py\u001b[0m in \u001b[0;36m__call__\u001b[1;34m(self, *args, **kwargs)\u001b[0m\n\u001b[0;32m   2574\u001b[0m             \u001b[0mvargs\u001b[0m\u001b[1;33m.\u001b[0m\u001b[0mextend\u001b[0m\u001b[1;33m(\u001b[0m\u001b[1;33m[\u001b[0m\u001b[0mkwargs\u001b[0m\u001b[1;33m[\u001b[0m\u001b[0m_n\u001b[0m\u001b[1;33m]\u001b[0m \u001b[1;32mfor\u001b[0m \u001b[0m_n\u001b[0m \u001b[1;32min\u001b[0m \u001b[0mnames\u001b[0m\u001b[1;33m]\u001b[0m\u001b[1;33m)\u001b[0m\u001b[1;33m\u001b[0m\u001b[0m\n\u001b[0;32m   2575\u001b[0m \u001b[1;33m\u001b[0m\u001b[0m\n\u001b[1;32m-> 2576\u001b[1;33m         \u001b[1;32mreturn\u001b[0m \u001b[0mself\u001b[0m\u001b[1;33m.\u001b[0m\u001b[0m_vectorize_call\u001b[0m\u001b[1;33m(\u001b[0m\u001b[0mfunc\u001b[0m\u001b[1;33m=\u001b[0m\u001b[0mfunc\u001b[0m\u001b[1;33m,\u001b[0m \u001b[0margs\u001b[0m\u001b[1;33m=\u001b[0m\u001b[0mvargs\u001b[0m\u001b[1;33m)\u001b[0m\u001b[1;33m\u001b[0m\u001b[0m\n\u001b[0m\u001b[0;32m   2577\u001b[0m \u001b[1;33m\u001b[0m\u001b[0m\n\u001b[0;32m   2578\u001b[0m     \u001b[1;32mdef\u001b[0m \u001b[0m_get_ufunc_and_otypes\u001b[0m\u001b[1;33m(\u001b[0m\u001b[0mself\u001b[0m\u001b[1;33m,\u001b[0m \u001b[0mfunc\u001b[0m\u001b[1;33m,\u001b[0m \u001b[0margs\u001b[0m\u001b[1;33m)\u001b[0m\u001b[1;33m:\u001b[0m\u001b[1;33m\u001b[0m\u001b[0m\n",
      "\u001b[1;32mC:\\Users\\PULSAT\\Anaconda3\\lib\\site-packages\\numpy\\lib\\function_base.py\u001b[0m in \u001b[0;36m_vectorize_call\u001b[1;34m(self, func, args)\u001b[0m\n\u001b[0;32m   2644\u001b[0m             \u001b[0mres\u001b[0m \u001b[1;33m=\u001b[0m \u001b[0mfunc\u001b[0m\u001b[1;33m(\u001b[0m\u001b[1;33m)\u001b[0m\u001b[1;33m\u001b[0m\u001b[0m\n\u001b[0;32m   2645\u001b[0m         \u001b[1;32melse\u001b[0m\u001b[1;33m:\u001b[0m\u001b[1;33m\u001b[0m\u001b[0m\n\u001b[1;32m-> 2646\u001b[1;33m             \u001b[0mufunc\u001b[0m\u001b[1;33m,\u001b[0m \u001b[0motypes\u001b[0m \u001b[1;33m=\u001b[0m \u001b[0mself\u001b[0m\u001b[1;33m.\u001b[0m\u001b[0m_get_ufunc_and_otypes\u001b[0m\u001b[1;33m(\u001b[0m\u001b[0mfunc\u001b[0m\u001b[1;33m=\u001b[0m\u001b[0mfunc\u001b[0m\u001b[1;33m,\u001b[0m \u001b[0margs\u001b[0m\u001b[1;33m=\u001b[0m\u001b[0margs\u001b[0m\u001b[1;33m)\u001b[0m\u001b[1;33m\u001b[0m\u001b[0m\n\u001b[0m\u001b[0;32m   2647\u001b[0m \u001b[1;33m\u001b[0m\u001b[0m\n\u001b[0;32m   2648\u001b[0m             \u001b[1;31m# Convert args to object arrays first\u001b[0m\u001b[1;33m\u001b[0m\u001b[1;33m\u001b[0m\u001b[0m\n",
      "\u001b[1;32mC:\\Users\\PULSAT\\Anaconda3\\lib\\site-packages\\numpy\\lib\\function_base.py\u001b[0m in \u001b[0;36m_get_ufunc_and_otypes\u001b[1;34m(self, func, args)\u001b[0m\n\u001b[0;32m   2600\u001b[0m             \u001b[0margs\u001b[0m \u001b[1;33m=\u001b[0m \u001b[1;33m[\u001b[0m\u001b[0masarray\u001b[0m\u001b[1;33m(\u001b[0m\u001b[0marg\u001b[0m\u001b[1;33m)\u001b[0m \u001b[1;32mfor\u001b[0m \u001b[0marg\u001b[0m \u001b[1;32min\u001b[0m \u001b[0margs\u001b[0m\u001b[1;33m]\u001b[0m\u001b[1;33m\u001b[0m\u001b[0m\n\u001b[0;32m   2601\u001b[0m             \u001b[1;32mif\u001b[0m \u001b[0mbuiltins\u001b[0m\u001b[1;33m.\u001b[0m\u001b[0many\u001b[0m\u001b[1;33m(\u001b[0m\u001b[0marg\u001b[0m\u001b[1;33m.\u001b[0m\u001b[0msize\u001b[0m \u001b[1;33m==\u001b[0m \u001b[1;36m0\u001b[0m \u001b[1;32mfor\u001b[0m \u001b[0marg\u001b[0m \u001b[1;32min\u001b[0m \u001b[0margs\u001b[0m\u001b[1;33m)\u001b[0m\u001b[1;33m:\u001b[0m\u001b[1;33m\u001b[0m\u001b[0m\n\u001b[1;32m-> 2602\u001b[1;33m                 raise ValueError('cannot call `vectorize` on size 0 inputs '\n\u001b[0m\u001b[0;32m   2603\u001b[0m                                  'unless `otypes` is set')\n\u001b[0;32m   2604\u001b[0m \u001b[1;33m\u001b[0m\u001b[0m\n",
      "\u001b[1;31mValueError\u001b[0m: cannot call `vectorize` on size 0 inputs unless `otypes` is set"
     ]
    }
   ],
   "source": [
    "##################Rajouter 100 simulations conditionnelles dans la liste simulations.\n",
    "##################Chacun de ces elements doit etre une liste de profondeurs\n",
    "\n",
    "\n",
    "\n",
    "simulations = []\n",
    "lg = np.vectorize(longueur)\n",
    "longueurs = lg(Delta, simulations)\n",
    "\n",
    "#Calcul de l'esperance conditionnelle (estimee) de la longueur\n",
    "Lcond = sum(longueurs)\n",
    "print(f\"Esperance conditionnelle estimee de la longueur : {Lcond}\")\n",
    "\n",
    "#Calcul de la longueur de l'esperance conditionnelle\n",
    "LEY = sum(lg(Delta, EY))\n",
    "print(f\"Longueur de l'esperance conditionnelle : {LEY}\")"
   ]
  },
  {
   "cell_type": "markdown",
   "metadata": {},
   "source": [
    "On remarque que "
   ]
  },
  {
   "cell_type": "markdown",
   "metadata": {},
   "source": [
    "**Question 10** On a si on note $L_i$ la longueur de la ième simulation, $M_n = \\frac{\\sum_{i=1}^n L_i}{n}$ donc on trouve de manière triviale la relation de récurrence $M_{n+1} = \\frac{\\sum_{i=1}^{n+1} L_i}{n+1} = \\frac{nM_n + L_{i+1}}{n+1}$ avec comme initialisation $M_1 = L_1$"
   ]
  },
  {
   "cell_type": "code",
   "execution_count": 5,
   "metadata": {},
   "outputs": [
    {
     "ename": "NameError",
     "evalue": "name 'simulation' is not defined",
     "output_type": "error",
     "traceback": [
      "\u001b[1;31m---------------------------------------------------------------------------\u001b[0m",
      "\u001b[1;31mNameError\u001b[0m                                 Traceback (most recent call last)",
      "\u001b[1;32m<ipython-input-5-f96f873b3631>\u001b[0m in \u001b[0;36m<module>\u001b[1;34m()\u001b[0m\n\u001b[0;32m     26\u001b[0m     \u001b[0mplt\u001b[0m\u001b[1;33m.\u001b[0m\u001b[0mshow\u001b[0m\u001b[1;33m(\u001b[0m\u001b[1;33m)\u001b[0m\u001b[1;33m\u001b[0m\u001b[0m\n\u001b[0;32m     27\u001b[0m \u001b[1;33m\u001b[0m\u001b[0m\n\u001b[1;32m---> 28\u001b[1;33m \u001b[0mmoyennes\u001b[0m\u001b[1;33m(\u001b[0m\u001b[0mNmax\u001b[0m\u001b[1;33m,\u001b[0m \u001b[0msimulations\u001b[0m\u001b[1;33m)\u001b[0m\u001b[1;33m\u001b[0m\u001b[0m\n\u001b[0m",
      "\u001b[1;32m<ipython-input-5-f96f873b3631>\u001b[0m in \u001b[0;36mmoyennes\u001b[1;34m(Nmax, simulations)\u001b[0m\n\u001b[0;32m      9\u001b[0m \u001b[1;33m\u001b[0m\u001b[0m\n\u001b[0;32m     10\u001b[0m \u001b[1;32mdef\u001b[0m \u001b[0mmoyennes\u001b[0m\u001b[1;33m(\u001b[0m\u001b[0mNmax\u001b[0m\u001b[1;33m,\u001b[0m \u001b[0msimulations\u001b[0m\u001b[1;33m)\u001b[0m\u001b[1;33m:\u001b[0m\u001b[1;33m\u001b[0m\u001b[0m\n\u001b[1;32m---> 11\u001b[1;33m     \u001b[1;32mfor\u001b[0m \u001b[0mk\u001b[0m \u001b[1;32min\u001b[0m \u001b[0mrange\u001b[0m\u001b[1;33m(\u001b[0m\u001b[0mNmax\u001b[0m\u001b[1;33m)\u001b[0m \u001b[1;33m:\u001b[0m \u001b[0msimulations\u001b[0m \u001b[1;33m+=\u001b[0m \u001b[1;33m[\u001b[0m\u001b[0msimulation\u001b[0m\u001b[1;33m]\u001b[0m\u001b[1;33m\u001b[0m\u001b[0m\n\u001b[0m\u001b[0;32m     12\u001b[0m \u001b[1;33m\u001b[0m\u001b[0m\n\u001b[0;32m     13\u001b[0m     \u001b[1;31m#Calcul des longueurs pour chaque simulation\u001b[0m\u001b[1;33m\u001b[0m\u001b[1;33m\u001b[0m\u001b[0m\n",
      "\u001b[1;31mNameError\u001b[0m: name 'simulation' is not defined"
     ]
    }
   ],
   "source": [
    "#Nombre max de simulations\n",
    "Nmax = 100\n",
    "\n",
    "#Simulation Nmx fois\n",
    "simulations = []\n",
    "\n",
    "def moyennes(Nmax, simulations):\n",
    "    \n",
    "    \n",
    "    ##################Appeler l'algorithme de simulation conditionnelle dans la boucle for precedente\n",
    "    \n",
    "    \n",
    "    for k in range(Nmax) : simulations += [simulation]\n",
    "\n",
    "    #Calcul des longueurs pour chaque simulation\n",
    "    longueurs = lg(Delta, simulations)\n",
    "\n",
    "    #Utilisation de la relation de recurrence\n",
    "    M = [longueurs[0]]\n",
    "    for k in range(1, Nmax):\n",
    "        M += [(kM[-1] + longueurs[k+1])/(k+1)]\n",
    "\n",
    "    #Representation des donnees\n",
    "    N = np.arange(Nmax) + 1\n",
    "    plt.plot(N,M)\n",
    "    plt.xlabel(\"Nombre de simulations\")\n",
    "    plt.ylabel(\"Moyennes sur les N simulations des longueurs de cable\")\n",
    "    plt.show()\n",
    "\n",
    "moyennes(Nmax, simulations)"
   ]
  },
  {
   "cell_type": "markdown",
   "metadata": {},
   "source": [
    "**Question 11**"
   ]
  },
  {
   "cell_type": "code",
   "execution_count": 6,
   "metadata": {},
   "outputs": [
    {
     "ename": "NameError",
     "evalue": "name 'plt' is not defined",
     "output_type": "error",
     "traceback": [
      "\u001b[1;31m---------------------------------------------------------------------------\u001b[0m",
      "\u001b[1;31mNameError\u001b[0m                                 Traceback (most recent call last)",
      "\u001b[1;32m<ipython-input-6-927d7638d952>\u001b[0m in \u001b[0;36m<module>\u001b[1;34m()\u001b[0m\n\u001b[1;32m----> 1\u001b[1;33m \u001b[0mhist\u001b[0m \u001b[1;33m=\u001b[0m \u001b[0mplt\u001b[0m\u001b[1;33m.\u001b[0m\u001b[0mhist\u001b[0m\u001b[1;33m(\u001b[0m\u001b[0mlongueurs\u001b[0m\u001b[1;33m,\u001b[0m \u001b[0mrange\u001b[0m \u001b[1;33m=\u001b[0m \u001b[1;33m(\u001b[0m\u001b[0mint\u001b[0m\u001b[1;33m(\u001b[0m\u001b[0mmin\u001b[0m\u001b[1;33m(\u001b[0m\u001b[0mlongueurs\u001b[0m\u001b[1;33m)\u001b[0m\u001b[1;33m)\u001b[0m \u001b[1;33m-\u001b[0m \u001b[1;36m1\u001b[0m\u001b[1;33m,\u001b[0m \u001b[0mint\u001b[0m\u001b[1;33m(\u001b[0m\u001b[0mmax\u001b[0m\u001b[1;33m(\u001b[0m\u001b[0mlongueurs\u001b[0m\u001b[1;33m)\u001b[0m\u001b[1;33m)\u001b[0m \u001b[1;33m+\u001b[0m \u001b[1;36m1\u001b[0m\u001b[1;33m)\u001b[0m\u001b[1;33m,\u001b[0m \u001b[0mbins\u001b[0m \u001b[1;33m=\u001b[0m \u001b[0mint\u001b[0m\u001b[1;33m(\u001b[0m\u001b[0mNmax\u001b[0m\u001b[1;33m/\u001b[0m\u001b[1;36m10\u001b[0m\u001b[1;33m)\u001b[0m\u001b[1;33m)\u001b[0m\u001b[1;33m\u001b[0m\u001b[0m\n\u001b[0m",
      "\u001b[1;31mNameError\u001b[0m: name 'plt' is not defined"
     ]
    }
   ],
   "source": [
    "hist = plt.hist(longueurs, range = (int(min(longueurs)) - 1, int(max(longueurs)) + 1), bins = int(Nmax/10))"
   ]
  },
  {
   "cell_type": "markdown",
   "metadata": {},
   "source": []
  }
 ],
 "metadata": {
  "kernelspec": {
   "display_name": "Python 3",
   "language": "python",
   "name": "python3"
  },
  "language_info": {
   "codemirror_mode": {
    "name": "ipython",
    "version": 3
   },
   "file_extension": ".py",
   "mimetype": "text/x-python",
   "name": "python",
   "nbconvert_exporter": "python",
   "pygments_lexer": "ipython3",
   "version": "3.7.3"
  }
 },
 "nbformat": 4,
 "nbformat_minor": 2
}
